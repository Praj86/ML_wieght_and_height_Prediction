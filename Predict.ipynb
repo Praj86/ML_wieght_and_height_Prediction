#
Importing the libraries
import pandas as pd
import numpy as np
import matplotlib.pyplot as plt
import seaborn as sns
from sklearn.model_selection
import train_test_split
from sklearn.linear_model
import LinearRegression

# Load dataset
def load_data(file_path):
    return pd.read_csv(file_path)

# Plotting functions
def plot_outliers(dataset):
    fig, axs = plt.subplots(2, figsize = (5, 5))
sns.boxplot(dataset['age'], ax = axs[0])
sns.boxplot(dataset['height'], ax = axs[1])
plt.tight_layout()
plt.show()

def plot_distribution(dataset):
    sns.distplot(dataset['height'])
plt.show()

def plot_relationship(dataset):
    sns.pairplot(dataset, x_vars = ['age'], y_vars = 'height', height = 4, aspect = 1, kind = 'scatter')
plt.show()

def plot_heatmap(dataset):
    sns.heatmap(dataset.corr(), annot = True)
plt.show()

# Model training
def train_model(x_train, y_train):
    model = LinearRegression()
model.fit(x_train, y_train)
return model

# Display model coefficients
def display_model_coefficients(model):
    print(f 'Intercept: {model.intercept_}')
print(f 'Coefficient: {model.coef_}')

# Plot line of best fit
def plot_best_fit(x_train, y_train, model):
    plt.scatter(x_train, y_train)
plt.plot(x_train, model.intercept_ + model.coef_ * x_train, 'r')
plt.show()

# Main

function
def main(): #Load dataset
dataset = load_data("height.csv")
print(dataset.head())

# Plotting
plot_outliers(dataset)
plot_distribution(dataset)
plot_relationship(dataset)
plot_heatmap(dataset)

# Prepare data
for modeling
x = dataset[['age']]
y = dataset['height']
x_train, x_test, y_train, y_test = train_test_split(x, y, test_size = 0.2, random_state = 50)

# Train the model
model = train_model(x_train, y_train)

# Display model coefficients
display_model_coefficients(model)
print(f 'Regression Equation: height = {model.intercept_} + {model.coef_[0]} * AGE')

# Plot line of best fit
plot_best_fit(x_train, y_train, model)

# Predictions
y_pred_slr = model.predict(x_test)
print(f 'Prediction for test set: {y_pred_slr}')

# Actual vs Predicted
slr_diff = pd.DataFrame({ 'Actual Value': y_test, 'Predicted Value': y_pred_slr })
print(slr_diff)

# Sample predictions
print(model.predict([
    [23]
]))
print(model.predict([
    [40]
]))
print(model.predict([
    [10]
]))

# Execute main

function
if __name__ == "__main__":
    main()